{
  "nbformat": 4,
  "nbformat_minor": 0,
  "metadata": {
    "colab": {
      "provenance": []
    },
    "kernelspec": {
      "name": "python3",
      "display_name": "Python 3"
    },
    "language_info": {
      "name": "python"
    }
  },
  "cells": [
    {
      "cell_type": "markdown",
      "source": [
        "Diabetes and Chronic kidney disease\n"
      ],
      "metadata": {
        "id": "v4l6XT1Oc-KE"
      }
    },
    {
      "cell_type": "code",
      "execution_count": null,
      "metadata": {
        "id": "DQOOpsnQtS8Y"
      },
      "outputs": [],
      "source": [
        "import numpy as np\n",
        "import pandas as pd\n",
        "import tensorflow as tf\n",
        "from tensorflow import keras\n",
        "from sklearn.model_selection import train_test_split\n",
        "from sklearn.preprocessing import StandardScaler, LabelEncoder\n",
        "from sklearn.metrics import accuracy_score\n",
        "import matplotlib.pyplot as plt\n"
      ]
    },
    {
      "cell_type": "code",
      "execution_count": null,
      "metadata": {
        "id": "W-XRMkPAweuP"
      },
      "outputs": [],
      "source": [
        "from imblearn.over_sampling import RandomOverSampler"
      ]
    },
    {
      "cell_type": "code",
      "source": [
        "# Load Diabetes Dataset\n",
        "diabetes_columns = [\"Pregnancies\", \"Glucose\", \"BloodPressure\", \"SkinThickness\",\n",
        "                    \"Insulin\", \"BMI\", \"DiabetesPedigreeFunction\", \"Age\", \"Outcome\"]\n",
        "diabetes_df = pd.read_csv(diabetes_url, names=diabetes_columns)\n",
        "\n",
        "# Split features and labels\n",
        "diabetes_X = diabetes_df.drop(columns=[\"Outcome\"])\n",
        "diabetes_y = diabetes_df[\"Outcome\"]\n"
      ],
      "metadata": {
        "id": "hfae1ugziCe6",
        "colab": {
          "base_uri": "https://localhost:8080/",
          "height": 245
        },
        "outputId": "8438d782-51f6-4dbc-b43e-b01869252b3e"
      },
      "execution_count": null,
      "outputs": [
        {
          "output_type": "error",
          "ename": "NameError",
          "evalue": "name 'diabetes_url' is not defined",
          "traceback": [
            "\u001b[0;31m---------------------------------------------------------------------------\u001b[0m",
            "\u001b[0;31mNameError\u001b[0m                                 Traceback (most recent call last)",
            "\u001b[0;32m<ipython-input-7-ba43e4f7a821>\u001b[0m in \u001b[0;36m<cell line: 0>\u001b[0;34m()\u001b[0m\n\u001b[1;32m      2\u001b[0m diabetes_columns = [\"Pregnancies\", \"Glucose\", \"BloodPressure\", \"SkinThickness\",\n\u001b[1;32m      3\u001b[0m                     \"Insulin\", \"BMI\", \"DiabetesPedigreeFunction\", \"Age\", \"Outcome\"]\n\u001b[0;32m----> 4\u001b[0;31m \u001b[0mdiabetes_df\u001b[0m \u001b[0;34m=\u001b[0m \u001b[0mpd\u001b[0m\u001b[0;34m.\u001b[0m\u001b[0mread_csv\u001b[0m\u001b[0;34m(\u001b[0m\u001b[0mdiabetes_url\u001b[0m\u001b[0;34m,\u001b[0m \u001b[0mnames\u001b[0m\u001b[0;34m=\u001b[0m\u001b[0mdiabetes_columns\u001b[0m\u001b[0;34m)\u001b[0m\u001b[0;34m\u001b[0m\u001b[0;34m\u001b[0m\u001b[0m\n\u001b[0m\u001b[1;32m      5\u001b[0m \u001b[0;34m\u001b[0m\u001b[0m\n\u001b[1;32m      6\u001b[0m \u001b[0;31m# Split features and labels\u001b[0m\u001b[0;34m\u001b[0m\u001b[0;34m\u001b[0m\u001b[0m\n",
            "\u001b[0;31mNameError\u001b[0m: name 'diabetes_url' is not defined"
          ]
        }
      ]
    },
    {
      "cell_type": "code",
      "source": [
        "# Load CKD Dataset\n",
        "ckd_url = \"https://raw.githubusercontent.com/mansoordaku/ckdisease/master/kidney_disease.csv\"\n",
        "ckd_df = pd.read_csv(\"kidney_disease.csv\")\n",
        "\n",
        "# Drop unnecessary columns\n",
        "ckd_df = ckd_df.drop(columns=['id'])\n",
        "\n",
        "# Handle missing values (Replace '?' with NaN and drop rows with NaN)\n",
        "ckd_df.replace('?', np.nan, inplace=True)\n",
        "ckd_df.dropna(inplace=True)\n",
        "\n",
        "# Convert categorical labels to binary (Yes=1, No=0)\n",
        "label_encoder = LabelEncoder()\n",
        "ckd_df['classification'] = label_encoder.fit_transform(ckd_df['classification'])  # CKD: 1, Not CKD: 0\n",
        "\n",
        "# Split features and labels\n",
        "ckd_X = ckd_df.drop(columns=[\"classification\"])\n",
        "ckd_y = ckd_df[\"classification\"]\n"
      ],
      "metadata": {
        "id": "qf8Fsis_ZjYJ"
      },
      "execution_count": null,
      "outputs": []
    },
    {
      "cell_type": "code",
      "source": [
        "# Convert categorical columns to numerical values\n",
        "for col in ckd_X.columns:\n",
        "    if ckd_X[col].dtype == 'object':  # If column contains text (categorical data)\n",
        "        ckd_X[col] = LabelEncoder().fit_transform(ckd_X[col])\n"
      ],
      "metadata": {
        "id": "1iQyUxxSbl2X"
      },
      "execution_count": null,
      "outputs": []
    },
    {
      "cell_type": "code",
      "source": [
        "# Standardize numerical data\n",
        "scaler = StandardScaler()\n",
        "\n",
        "# Normalize Diabetes Data\n",
        "diabetes_X_scaled = scaler.fit_transform(diabetes_X)\n",
        "\n",
        "# Normalize CKD Data\n",
        "ckd_X_scaled = scaler.fit_transform(ckd_X)\n",
        "\n",
        "# Ensure same number of features (pad or truncate)\n",
        "num_features = max(diabetes_X_scaled.shape[1], ckd_X_scaled.shape[1])\n",
        "\n",
        "diabetes_X_scaled = np.pad(diabetes_X_scaled, [(0, 0), (0, num_features - diabetes_X_scaled.shape[1])], mode='constant')\n",
        "ckd_X_scaled = np.pad(ckd_X_scaled, [(0, 0), (0, num_features - ckd_X_scaled.shape[1])], mode='constant')\n",
        "\n",
        "# Combine datasets\n",
        "X = np.vstack((diabetes_X_scaled, ckd_X_scaled))\n",
        "y = np.column_stack((np.hstack((diabetes_y, np.zeros(len(ckd_y)))),  # Diabetes labels\n",
        "                     np.hstack((np.zeros(len(diabetes_y)), ckd_y)))) # CKD labels\n",
        "\n",
        "# Train-test split\n",
        "X_train, X_test, y_train, y_test = train_test_split(X, y, test_size=0.2, random_state=42)\n"
      ],
      "metadata": {
        "id": "NJPLdjeZZko_",
        "colab": {
          "base_uri": "https://localhost:8080/",
          "height": 211
        },
        "outputId": "eff8c9d7-da20-4e52-cfa5-bc97bbcfa303"
      },
      "execution_count": null,
      "outputs": [
        {
          "output_type": "error",
          "ename": "NameError",
          "evalue": "name 'diabetes_X' is not defined",
          "traceback": [
            "\u001b[0;31m---------------------------------------------------------------------------\u001b[0m",
            "\u001b[0;31mNameError\u001b[0m                                 Traceback (most recent call last)",
            "\u001b[0;32m<ipython-input-8-79ad4886de1e>\u001b[0m in \u001b[0;36m<cell line: 0>\u001b[0;34m()\u001b[0m\n\u001b[1;32m      3\u001b[0m \u001b[0;34m\u001b[0m\u001b[0m\n\u001b[1;32m      4\u001b[0m \u001b[0;31m# Normalize Diabetes Data\u001b[0m\u001b[0;34m\u001b[0m\u001b[0;34m\u001b[0m\u001b[0m\n\u001b[0;32m----> 5\u001b[0;31m \u001b[0mdiabetes_X_scaled\u001b[0m \u001b[0;34m=\u001b[0m \u001b[0mscaler\u001b[0m\u001b[0;34m.\u001b[0m\u001b[0mfit_transform\u001b[0m\u001b[0;34m(\u001b[0m\u001b[0mdiabetes_X\u001b[0m\u001b[0;34m)\u001b[0m\u001b[0;34m\u001b[0m\u001b[0;34m\u001b[0m\u001b[0m\n\u001b[0m\u001b[1;32m      6\u001b[0m \u001b[0;34m\u001b[0m\u001b[0m\n\u001b[1;32m      7\u001b[0m \u001b[0;31m# Normalize CKD Data\u001b[0m\u001b[0;34m\u001b[0m\u001b[0;34m\u001b[0m\u001b[0m\n",
            "\u001b[0;31mNameError\u001b[0m: name 'diabetes_X' is not defined"
          ]
        }
      ]
    },
    {
      "cell_type": "code",
      "source": [
        "def plot_loss(history):\n",
        "  plt.plot(history.history['loss'], label='loss')\n",
        "  plt.plot(history.history['val_loss'], label='val_loss')\n",
        "  plt.xlabel('Epoch')\n",
        "  plt.ylabel('Binary crossentropy')\n",
        "  plt.legend()\n",
        "  plt.grid(True)\n",
        "  plt.show()\n",
        "\n",
        "def plot_accuracy(history):\n",
        "  plt.plot(history.history['accuracy'], label='accuracy')\n",
        "  plt.plot(history.history['val_accuracy'], label = 'val_accuracy')\n",
        "  plt.xlabel('Epoch')\n",
        "  plt.ylabel('Accuracy')\n",
        "  plt.legend()\n",
        "  plt.grid(True)\n",
        "  plt.show()\n",
        "\n"
      ],
      "metadata": {
        "id": "DaXhpnlTvYhW"
      },
      "execution_count": null,
      "outputs": []
    },
    {
      "cell_type": "code",
      "source": [
        "# Define a Multi-Output Sequential Model\n",
        "model = keras.Sequential([\n",
        "    keras.layers.Dense(64, activation='relu', input_shape=(num_features,)),  # Input Layer\n",
        "    keras.layers.Dense(32, activation='relu'),  # Hidden Layer\n",
        "    keras.layers.Dense(8, activation='relu'),  # Hidden Layer\n",
        "    keras.layers.Dense(2, activation='sigmoid')  # Output Layer (Diabetes & CKD)\n",
        "])\n",
        "\n",
        "model.compile(optimizer='adam',\n",
        "              loss='binary_crossentropy',\n",
        "              metrics=['accuracy'])\n",
        "\n",
        "# Model Summary\n",
        "model.summary()\n"
      ],
      "metadata": {
        "id": "CYEMgSFoZnaI"
      },
      "execution_count": null,
      "outputs": []
    },
    {
      "cell_type": "code",
      "source": [
        "from re import VERBOSE\n",
        "# Train the model\n",
        "history = model.fit(X_train, y_train, epochs=75, batch_size=16, validation_data=(X_test, y_test))\n",
        "\n"
      ],
      "metadata": {
        "collapsed": true,
        "id": "tAzBld5_ZwLn"
      },
      "execution_count": null,
      "outputs": []
    },
    {
      "cell_type": "code",
      "source": [
        "# Evaluate on Test Data\n",
        "y_pred = (model.predict(X_test) > 0.5).astype(\"int32\")\n",
        "\n",
        "# Calculate Accuracy for Each Disease\n",
        "diabetes_acc = accuracy_score(y_test[:, 0], y_pred[:, 0])\n",
        "ckd_acc = accuracy_score(y_test[:, 1], y_pred[:, 1])\n",
        "\n",
        "print(f\"Diabetes Prediction Accuracy: {diabetes_acc:.4f}\")\n",
        "print(f\"CKD Prediction Accuracy: {ckd_acc:.4f}\")\n",
        "\n",
        "\n",
        "# Save the model\n",
        "model.save(\"diabetes_ckd_prediction_model.h5\")\n"
      ],
      "metadata": {
        "id": "sEnjOc0vZxYR"
      },
      "execution_count": null,
      "outputs": []
    },
    {
      "cell_type": "code",
      "source": [
        "import numpy as np\n",
        "import pandas as pd\n",
        "import tensorflow as tf\n",
        "from tensorflow.keras.models import load_model\n",
        "from sklearn.preprocessing import StandardScaler\n",
        "\n",
        "# Load the trained model\n",
        "model = load_model(\"diabetes_ckd_prediction_model.h5\")\n",
        "\n",
        "# Load dataset (for consistent feature scaling)\n",
        "diabetes_columns = [\"Pregnancies\", \"Glucose\", \"BloodPressure\", \"SkinThickness\",\n",
        "                    \"Insulin\", \"BMI\", \"DiabetesPedigreeFunction\", \"Age\"]\n",
        "ckd_columns = [\"bp\", \"sg\", \"al\", \"su\", \"rbc\", \"pc\", \"pcc\", \"ba\", \"bgr\", \"bu\", \"sc\", \"sod\",\n",
        "               \"pot\", \"hemo\", \"pcv\", \"wc\", \"rc\", \"htn\", \"dm\", \"cad\", \"appet\", \"pe\", \"ane\"]\n",
        "\n",
        "# --- NEW PATIENT DATA ---\n",
        "new_patient = {\n",
        "    \"Pregnancies\": 0, \"Glucose\": 137, \"BloodPressure\": 40, \"SkinThickness\": 35,\n",
        "    \"Insulin\": 168, \"BMI\": 43.1, \"DiabetesPedigreeFunction\": 2.288, \"Age\": 33,\n",
        "    \"bp\": 140, \"sg\": 1.02, \"al\": 0, \"su\": 0, \"rbc\": 1, \"pc\": 1, \"pcc\": 0, \"ba\": 0,\n",
        "    \"bgr\": 120, \"bu\": 40, \"sc\": 1.3, \"sod\": 140, \"pot\": 8, \"hemo\": 15,\n",
        "    \"pcv\": 44, \"wc\": 8300, \"rc\": 5.5, \"htn\": 0, \"dm\": 0, \"cad\": 0,\n",
        "    \"appet\": 1, \"pe\": 0, \"ane\": 0\n",
        "}\n",
        "\n",
        "# Convert to DataFrame\n",
        "new_data_df = pd.DataFrame([new_patient])\n",
        "\n",
        "# Ensure feature order\n",
        "all_features = diabetes_columns + ckd_columns\n",
        "new_data_df = new_data_df[all_features]  # Reorder columns\n",
        "\n",
        "# Normalize input using StandardScaler (Fit on training data for consistency)\n",
        "scaler = StandardScaler()\n",
        "new_data_scaled = scaler.fit_transform(new_data_df)  # Scale features\n",
        "\n",
        "# Ensure correct feature size\n",
        "expected_features = model.input_shape[1]\n",
        "actual_features = new_data_scaled.shape[1]\n",
        "\n",
        "if actual_features < expected_features:\n",
        "    # Pad with zeros if features are missing\n",
        "    new_data_scaled = np.pad(new_data_scaled, [(0, 0), (0, expected_features - actual_features)], mode='constant')\n",
        "elif actual_features > expected_features:\n",
        "    # Trim extra features if present\n",
        "    new_data_scaled = new_data_scaled[:, :expected_features]\n",
        "\n",
        "# Make predictions\n",
        "predictions = model.predict(new_data_scaled)\n",
        "\n",
        "# Convert predictions to binary (0 or 1)\n",
        "predicted_labels = (predictions > 0.5).astype(\"int32\")\n",
        "\n",
        "# Output the results\n",
        "diabetes_result = \"YES\" if predicted_labels[0][0] == 1 else \"NO\"\n",
        "ckd_result = \"YES\" if predicted_labels[0][1] == 1 else \"NO\"\n",
        "\n",
        "print(f\"Predicted Diabetes Risk: {diabetes_result}\")\n",
        "print(f\"Predicted CKD Risk: {ckd_result}\")\n"
      ],
      "metadata": {
        "colab": {
          "base_uri": "https://localhost:8080/"
        },
        "id": "m__B_pC0ebTd",
        "outputId": "1a2b769b-90c4-4ad7-823d-3395e65178d3"
      },
      "execution_count": null,
      "outputs": [
        {
          "output_type": "stream",
          "name": "stderr",
          "text": [
            "WARNING:absl:Compiled the loaded model, but the compiled metrics have yet to be built. `model.compile_metrics` will be empty until you train or evaluate the model.\n"
          ]
        },
        {
          "output_type": "stream",
          "name": "stdout",
          "text": [
            "\u001b[1m1/1\u001b[0m \u001b[32m━━━━━━━━━━━━━━━━━━━━\u001b[0m\u001b[37m\u001b[0m \u001b[1m0s\u001b[0m 89ms/step\n",
            "Predicted Diabetes Risk: NO\n",
            "Predicted CKD Risk: NO\n"
          ]
        }
      ]
    },
    {
      "cell_type": "markdown",
      "source": [
        "Lung Cancer\n"
      ],
      "metadata": {
        "id": "mrw0wNVnc629"
      }
    },
    {
      "cell_type": "code",
      "source": [
        "import numpy as np\n",
        "import pandas as pd\n",
        "import tensorflow as tf\n",
        "from tensorflow import keras\n",
        "from sklearn.model_selection import train_test_split\n",
        "from sklearn.preprocessing import StandardScaler\n",
        "from sklearn.impute import SimpleImputer\n",
        "from imblearn.over_sampling import SMOTE\n",
        "import matplotlib.pyplot as plt\n",
        "from sklearn.metrics import accuracy_score, classification_report\n",
        "\n",
        "# Load dataset\n",
        "df = pd.read_csv(\"survey_lung_cancer.csv\")  # Ensure the file exists\n",
        "\n",
        "# Handle missing values: Fill NaN with the most frequent value (mode)\n",
        "imputer = SimpleImputer(strategy=\"most_frequent\")\n",
        "df_imputed = pd.DataFrame(imputer.fit_transform(df), columns=df.columns)\n",
        "\n",
        "# Convert categorical labels to binary (Yes -> 1, No -> 0)\n",
        "df_imputed[\"LUNG_CANCER\"] = df_imputed[\"LUNG_CANCER\"].map({\"YES\": 1, \"NO\": 0})\n",
        "\n",
        "# Separate features (X) and target (y)\n",
        "X = df_imputed.drop(columns=[\"LUNG_CANCER\"])\n",
        "y = df_imputed[\"LUNG_CANCER\"]\n",
        "\n",
        "# Convert categorical features (GENDER) to numeric (0 and 1)\n",
        "X = pd.get_dummies(X, drop_first=True)\n",
        "\n",
        "# Normalize the data\n",
        "scaler = StandardScaler()\n",
        "X_scaled = scaler.fit_transform(X)\n",
        "\n",
        "# Split into training and testing sets\n",
        "X_train, X_test, y_train, y_test = train_test_split(X_scaled, y, test_size=0.2, random_state=42, stratify=y)\n",
        "\n",
        "# Apply SMOTE to balance the dataset\n",
        "smote = SMOTE(random_state=42)\n",
        "X_train_resampled, y_train_resampled = smote.fit_resample(X_train, y_train)\n",
        "\n",
        "# Build the Neural Network Model\n",
        "model = keras.Sequential([\n",
        "    keras.layers.Dense(64, activation='relu', input_shape=(X_train_resampled.shape[1],)),\n",
        "    keras.layers.Dense(32, activation='relu'),\n",
        "    keras.layers.Dense(1, activation='sigmoid')  # Sigmoid for binary classification\n",
        "])\n",
        "\n",
        "# Compile the model\n",
        "model.compile(optimizer='adam', loss='binary_crossentropy', metrics=['accuracy'])\n",
        "\n",
        "# Train the model\n",
        "history = model.fit(X_train_resampled, y_train_resampled, epochs=50, batch_size=16, validation_data=(X_test, y_test))\n",
        "\n",
        "# Evaluate the model\n",
        "y_pred = (model.predict(X_test) > 0.5).astype(\"int32\")\n",
        "accuracy = accuracy_score(y_test, y_pred)\n",
        "print(f\"Model Accuracy: {accuracy:.4f}\")\n",
        "\n",
        "# Print classification report\n",
        "print(\"Classification Report:\")\n",
        "print(classification_report(y_test, y_pred))\n",
        "\n",
        "# Plot Accuracy & Loss Curves\n",
        "plt.figure(figsize=(12, 5))\n",
        "\n",
        "# Plot Accuracy\n",
        "plt.subplot(1, 2, 1)\n",
        "plt.plot(history.history['accuracy'], label='Train Accuracy')\n",
        "plt.plot(history.history['val_accuracy'], label='Validation Accuracy')\n",
        "plt.xlabel('Epochs')\n",
        "plt.ylabel('Accuracy')\n",
        "plt.title('Model Accuracy')\n",
        "plt.legend()\n",
        "\n",
        "# Plot Loss\n",
        "plt.subplot(1, 2, 2)\n",
        "plt.plot(history.history['loss'], label='Train Loss')\n",
        "plt.plot(history.history['val_loss'], label='Validation Loss')\n",
        "plt.xlabel('Epochs')\n",
        "plt.ylabel('Loss')\n",
        "plt.title('Model Loss')\n",
        "plt.legend()\n",
        "\n",
        "plt.show()\n",
        "\n",
        "# Save the model\n",
        "model.save(\"lung_cancer_prediction_model.h5\")\n",
        "\n"
      ],
      "metadata": {
        "id": "obIo2vGASllS"
      },
      "execution_count": null,
      "outputs": []
    },
    {
      "cell_type": "code",
      "source": [
        "from google.colab import drive\n",
        "drive.mount('/content/drive')\n"
      ],
      "metadata": {
        "colab": {
          "base_uri": "https://localhost:8080/"
        },
        "id": "lljxYCpi8gqy",
        "outputId": "d6eb9eda-c183-4129-b354-67e9d7d8e92f"
      },
      "execution_count": 2,
      "outputs": [
        {
          "output_type": "stream",
          "name": "stdout",
          "text": [
            "Drive already mounted at /content/drive; to attempt to forcibly remount, call drive.mount(\"/content/drive\", force_remount=True).\n"
          ]
        }
      ]
    }
  ]
}